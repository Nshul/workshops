{
 "cells": [
  {
   "cell_type": "markdown",
   "metadata": {},
   "source": [
    "# Basics\n",
    "- Python is interpreted language\n",
    "- No type declarations for variables, functions etc\n",
    "- Types are mapped to values at runtime\n",
    "- Everything is an object"
   ]
  },
  {
   "cell_type": "code",
   "execution_count": 1,
   "metadata": {},
   "outputs": [
    {
     "data": {
      "text/plain": [
       "(1, 2)"
      ]
     },
     "execution_count": 1,
     "metadata": {},
     "output_type": "execute_result"
    }
   ],
   "source": [
    "# Assignment\n",
    "x = 1\n",
    "y = 2\n",
    "\n",
    "# or\n",
    "x, y = 1, 2\n",
    "x, y"
   ]
  },
  {
   "cell_type": "code",
   "execution_count": 2,
   "metadata": {},
   "outputs": [
    {
     "data": {
      "text/plain": [
       "('A', 'B', 'C')"
      ]
     },
     "execution_count": 2,
     "metadata": {},
     "output_type": "execute_result"
    }
   ],
   "source": [
    "x, y, z = \"ABC\"\n",
    "x, y, z"
   ]
  },
  {
   "cell_type": "code",
   "execution_count": 3,
   "metadata": {},
   "outputs": [
    {
     "name": "stdout",
     "output_type": "stream",
     "text": [
      "name 'x' is not defined\n"
     ]
    }
   ],
   "source": [
    "del x  # deleting a variable\n",
    "try:\n",
    "    print(x)\n",
    "except Exception as e:\n",
    "    print(e)"
   ]
  },
  {
   "cell_type": "code",
   "execution_count": 4,
   "metadata": {},
   "outputs": [
    {
     "data": {
      "text/plain": [
       "False"
      ]
     },
     "execution_count": 4,
     "metadata": {},
     "output_type": "execute_result"
    }
   ],
   "source": [
    "# Most don't know but there's infinity in python :D\n",
    "x = float('inf')  # x behaves now like inifinity\n",
    "y = 10 ** 5000  # 10 raised to power 5000\n",
    "x < y"
   ]
  },
  {
   "cell_type": "code",
   "execution_count": 5,
   "metadata": {},
   "outputs": [
    {
     "data": {
      "text/plain": [
       "(float, long)"
      ]
     },
     "execution_count": 5,
     "metadata": {},
     "output_type": "execute_result"
    }
   ],
   "source": [
    "type(x), type(y)"
   ]
  },
  {
   "cell_type": "markdown",
   "metadata": {},
   "source": [
    "### Fun with strings"
   ]
  },
  {
   "cell_type": "code",
   "execution_count": 6,
   "metadata": {},
   "outputs": [
    {
     "name": "stdout",
     "output_type": "stream",
     "text": [
      "LOLLOLLOLLOLLOL\n"
     ]
    }
   ],
   "source": [
    "x = \"LOL\"\n",
    "print(x * 5)"
   ]
  },
  {
   "cell_type": "code",
   "execution_count": 7,
   "metadata": {},
   "outputs": [
    {
     "data": {
      "text/plain": [
       "'LOL YOU'"
      ]
     },
     "execution_count": 7,
     "metadata": {},
     "output_type": "execute_result"
    }
   ],
   "source": [
    "x += \" YOU\"\n",
    "x"
   ]
  },
  {
   "cell_type": "code",
   "execution_count": 8,
   "metadata": {},
   "outputs": [
    {
     "name": "stdout",
     "output_type": "stream",
     "text": [
      "OL Y\n",
      "LOL \n",
      "YOU\n"
     ]
    }
   ],
   "source": [
    "# slicing of strings\n",
    "# x[start_index:end_index] (end index is not included)\n",
    "print(x[1:5])\n",
    "print(x[:4])  # means from start of string to specified end\n",
    "print(x[4:])  # means from specified start to end of string"
   ]
  },
  {
   "cell_type": "code",
   "execution_count": 9,
   "metadata": {},
   "outputs": [
    {
     "name": "stdout",
     "output_type": "stream",
     "text": [
      "Last third element: Y\n",
      "testing count of L: 2\n",
      "testing first index of L 0\n",
      "testing index of L with specified start: 2\n"
     ]
    }
   ],
   "source": [
    "# traversing from reverse\n",
    "# x[-2] => second last element\n",
    "print(\"Last third element: %s\" % x[-3])  # third last element\n",
    "\n",
    "print(\"testing count of L: %d\" % x.count(\"L\"))\n",
    "print(\"testing first index of L %d\" % x.index(\"L\"))\n",
    "print(\"testing index of L with specified start: %d\" % x.index(\"L\", 2))  # first index starting from index 2"
   ]
  },
  {
   "cell_type": "markdown",
   "metadata": {},
   "source": [
    "## Basic data structures\n",
    "- <b>List</b>: Array like data structure\n",
    "- <b>Tuple</b>: Similar to list but faster and immutable (we'll get back to it later)\n",
    "- <b>Dict</b>: A sequence of key-value pairs (a map, you can say)\n",
    "- <b>Set</b>: Sequence with unique terms"
   ]
  },
  {
   "cell_type": "markdown",
   "metadata": {},
   "source": [
    "## LIST"
   ]
  },
  {
   "cell_type": "code",
   "execution_count": 10,
   "metadata": {},
   "outputs": [
    {
     "data": {
      "text/plain": [
       "list"
      ]
     },
     "execution_count": 10,
     "metadata": {},
     "output_type": "execute_result"
    }
   ],
   "source": [
    "a = list()  # or a = []\n",
    "type(a)"
   ]
  },
  {
   "cell_type": "code",
   "execution_count": 11,
   "metadata": {},
   "outputs": [
    {
     "name": "stdout",
     "output_type": "stream",
     "text": [
      "[1]\n",
      "[1, 'wow']\n"
     ]
    }
   ],
   "source": [
    "a.append(1)\n",
    "print(a)\n",
    "a.append(\"wow\")\n",
    "print(a)"
   ]
  },
  {
   "cell_type": "code",
   "execution_count": 12,
   "metadata": {},
   "outputs": [
    {
     "name": "stdout",
     "output_type": "stream",
     "text": [
      "[1, 2, 3, 4, 5, 6, 7, 8, 9, 10, 11, 12, 13, 14, 15, 16, 17, 18, 19, 20, 21, 22, 23, 24, 25, 26, 27, 28, 29, 30, 31, 32, 33, 34, 35, 36, 37, 38, 39, 40, 41, 42, 43, 44, 45, 46, 47, 48, 49, 50, 51, 52, 53, 54, 55, 56, 57, 58, 59, 60, 61, 62, 63, 64, 65, 66, 67, 68, 69, 70, 71, 72, 73, 74, 75, 76, 77, 78, 79, 80, 81, 82, 83, 84, 85, 86, 87, 88, 89, 90, 91, 92, 93, 94, 95, 96, 97, 98, 99, 100]\n",
      "[0, 0, 0, 0, 0, 0, 0, 0, 0, 0]\n",
      "[[0, 0, 0, 0, 0, 0, 0, 0, 0, 0], [0, 0, 0, 0, 0, 0, 0, 0, 0, 0], [0, 0, 0, 0, 0, 0, 0, 0, 0, 0]]\n"
     ]
    }
   ],
   "source": [
    "a = [1, 2, 3]\n",
    "# what if you want to initialise with numbers from 1 to 100? :D\n",
    "# Hope you all know for loops, if you don't\n",
    "# Here's some info\n",
    "# for i in range(x) => i = 0 to x - 1 (included)\n",
    "# for i in range(x, y) => i = x to y - 1\n",
    "# for i in range(x, y, s) => i = x to y - 1 with step increase of s => x -> x + s -> x + 2*s ...\n",
    "a = [number for number in range(1, 101)]\n",
    "print(a)\n",
    "\n",
    "# want to initialise an array with 0s or soemthing else?\n",
    "a = [0] * 10  # size of array\n",
    "print(a)\n",
    "\n",
    "# 2d lists? :D\n",
    "a = [[0]*10] * 3  # array of 3 rows and 10 columns\n",
    "print(a)"
   ]
  },
  {
   "cell_type": "code",
   "execution_count": 13,
   "metadata": {},
   "outputs": [
    {
     "name": "stdout",
     "output_type": "stream",
     "text": [
      "('Original', [1, 5, 3])\n",
      "('Appended', [1, 5, 3, 2])\n",
      "('Extended', [1, 5, 3, 2, 0, 9, 8])\n",
      "('Inserted 10 at index 4:', [1, 5, 3, 2, 10, 0, 9, 8])\n",
      "('Can you find 0 now?', [1, 5, 3, 2, 10, 9, 8])\n",
      "('I like my data this way <3', [1, 2, 3, 5, 8, 9, 10])\n"
     ]
    }
   ],
   "source": [
    "# LIST OPERATIONS\n",
    "\n",
    "# SAME WAY ACCESSING ELEMENTS, SLICING etc LIKE STRINS FOR LISTS AND TUPLES\n",
    "\n",
    "x = [1, 5, 3]\n",
    "print(\"Original\", x)\n",
    "\n",
    "## append\n",
    "x.append(2)\n",
    "print(\"Appended\", x)\n",
    "\n",
    "## extend => merge two lists\n",
    "y = [0, 9, 8]\n",
    "x.extend(y)\n",
    "print(\"Extended\", x)\n",
    "\n",
    "## insert and element at an index\n",
    "x.insert(4, 10)\n",
    "print(\"Inserted 10 at index 4:\", x)\n",
    "\n",
    "## remove first occurence of value\n",
    "x.remove(0)\n",
    "print(\"Can you find 0 now?\", x)\n",
    "\n",
    "## count, index is same as string\n",
    "## sort\n",
    "x.sort()\n",
    "print(\"I like my data this way <3\", x)"
   ]
  },
  {
   "cell_type": "code",
   "execution_count": 14,
   "metadata": {},
   "outputs": [
    {
     "name": "stdout",
     "output_type": "stream",
     "text": [
      "('Original list', [1, 2, 3, 5, 8, 9, 10])\n",
      "('Like a stack', [1, 2, 3, 5, 8, 9])\n",
      "Popped value: 10\n",
      "('Like a queue', [2, 3, 5, 8, 9])\n",
      "Popped value: 1\n"
     ]
    }
   ],
   "source": [
    "# List as stack and queue\n",
    "# pop() => behaves as stack (removes and returns element at last index)\n",
    "# pop(0) => behaves as queue (removes and returns element at 0 index)\n",
    "print(\"Original list\", x)\n",
    "\n",
    "popped = x.pop()\n",
    "print(\"Like a stack\", x)\n",
    "print(\"Popped value: %d\" % popped)\n",
    "\n",
    "popped = x.pop(0)\n",
    "print(\"Like a queue\", x)\n",
    "print(\"Popped value: %d\" % popped)"
   ]
  },
  {
   "cell_type": "markdown",
   "metadata": {},
   "source": [
    "## TUPLE"
   ]
  },
  {
   "cell_type": "code",
   "execution_count": 15,
   "metadata": {},
   "outputs": [
    {
     "name": "stdout",
     "output_type": "stream",
     "text": [
      "<type 'tuple'>\n"
     ]
    }
   ],
   "source": [
    "a = (1, )  # \",\" is necessary when creating a tuple with one element otherwise will be treated as int\n",
    "a = (1, 2, 3)  # or you can also do\n",
    "a = 1, 2, 3\n",
    "a = 1, 2, \"hello\"\n",
    "print(type(a))"
   ]
  },
  {
   "cell_type": "markdown",
   "metadata": {},
   "source": [
    "## DICT"
   ]
  },
  {
   "cell_type": "code",
   "execution_count": 16,
   "metadata": {},
   "outputs": [
    {
     "name": "stdout",
     "output_type": "stream",
     "text": [
      "<type 'dict'>\n",
      "I'm cool\n"
     ]
    }
   ],
   "source": [
    "d = dict()  # or d = {}\n",
    "d = {\"i'm\": \"cool\", \"rank\": 1, 1: \"that's my rank :P\"}\n",
    "print(type(d))\n",
    "\n",
    "print(\"I'm \" + d[\"i'm\"])"
   ]
  },
  {
   "cell_type": "code",
   "execution_count": 17,
   "metadata": {},
   "outputs": [
    {
     "name": "stdout",
     "output_type": "stream",
     "text": [
      "('Keys', [1, \"i'm\", 'rank'])\n",
      "('Values', [\"that's my rank :P\", 'cool', 1])\n"
     ]
    }
   ],
   "source": [
    "# key-value pair\n",
    "# access keys\n",
    "print(\"Keys\", d.keys())\n",
    "\n",
    "# acces values\n",
    "print(\"Values\", d.values())\n",
    "\n",
    "# Keys are returned in sorted order, if integer + string keys there, then sorted on based of ascii\n",
    "# Values are then returned in order of sorted keys"
   ]
  },
  {
   "cell_type": "code",
   "execution_count": 18,
   "metadata": {},
   "outputs": [
    {
     "name": "stdout",
     "output_type": "stream",
     "text": [
      "('Checking for key random', False)\n",
      "('Updated', {1: \"that's my rank :P\", \"i'm\": 'super cool', 'rank': 1})\n",
      "('New key added', {1: \"that's my rank :P\", \"i'm\": 'super cool', 'rank': 1, 'new_key': 42})\n",
      "('Popped value', 42)\n",
      "('Remaining', {1: \"that's my rank :P\", \"i'm\": 'super cool', 'rank': 1})\n",
      "('Merged', {1: \"that's my rank :P\", 'yo': 'bro', \"i'm\": 'super cool', 'hello': 'world', 'rank': 1})\n"
     ]
    }
   ],
   "source": [
    "# DICT OPERATIONS\n",
    "## check for key\n",
    "print(\"Checking for key random\", d.has_key(\"random\"))\n",
    "\n",
    "## update a key\n",
    "d[\"i'm\"] = \"super cool\"\n",
    "print(\"Updated\", d)\n",
    "\n",
    "## adding new key-value\n",
    "d.update({\"new_key\": 42})\n",
    "print(\"New key added\", d)\n",
    "\n",
    "## remove a key\n",
    "# use del for deleting key => del d[\"i'm\"]\n",
    "popped_value = d.pop(\"new_key\")\n",
    "print(\"Popped value\", popped_value)\n",
    "print(\"Remaining\", d)\n",
    "\n",
    "## merging dictionary\n",
    "dd = {\"hello\": \"world\", \"yo\": \"bro\"}\n",
    "d.update(dd)\n",
    "print(\"Merged\", d)"
   ]
  },
  {
   "cell_type": "markdown",
   "metadata": {},
   "source": [
    "## SET"
   ]
  },
  {
   "cell_type": "code",
   "execution_count": 19,
   "metadata": {},
   "outputs": [
    {
     "name": "stdout",
     "output_type": "stream",
     "text": [
      "<type 'set'>\n",
      "set([1, 2, 3])\n"
     ]
    }
   ],
   "source": [
    "a = set()  # or a = set(iterable) => list is an iterable (we'll discuss iterables sometime later)\n",
    "# so you can do a = set([1, 2, 1, 1, 3])\n",
    "a = set([1, 2, 1, 1, 3])\n",
    "print(type(a))\n",
    "print(a)"
   ]
  },
  {
   "cell_type": "code",
   "execution_count": 20,
   "metadata": {},
   "outputs": [
    {
     "name": "stdout",
     "output_type": "stream",
     "text": [
      "('Set a', set([1, 2, 3]))\n",
      "('Set b', set([1, 3, 5]))\n",
      "('Union', set([1, 2, 3, 5]))\n",
      "('Intersection', set([1, 3]))\n",
      "('is a subset of b?', False)\n"
     ]
    }
   ],
   "source": [
    "b = set([1, 3, 5])\n",
    "\n",
    "print(\"Set a\", a)\n",
    "print(\"Set b\", b)\n",
    "\n",
    "# SET OPERATIONS\n",
    "print(\"Union\", a | b)\n",
    "print(\"Intersection\", a & b)\n",
    "print(\"is a subset of b?\", a < b)"
   ]
  },
  {
   "cell_type": "markdown",
   "metadata": {},
   "source": [
    "## Mutable vs Immutable\n",
    "- Objects in python can either be immutable or mutable\n",
    "- <b>Mutable</b>: Can be changed after created\n",
    "  - list\n",
    "  - dict\n",
    "  - set ...\n",
    "- <b>Immutable</b>: Can't be changed after created\n",
    "  - int, float\n",
    "  - string\n",
    "  - tuple ..."
   ]
  },
  {
   "cell_type": "code",
   "execution_count": 21,
   "metadata": {},
   "outputs": [
    {
     "data": {
      "text/plain": [
       "(37249184, 37249184, 37249184, 37249184)"
      ]
     },
     "execution_count": 21,
     "metadata": {},
     "output_type": "execute_result"
    }
   ],
   "source": [
    "# id(object) returns an integer which corresponds to object's location in memory\n",
    "x = 10\n",
    "y = 10\n",
    "z = 10\n",
    "id(x), id(y), id(y), id(10)  # all same bcoz variables are named reference to value 10\n",
    "# but wait, there's something more you should know"
   ]
  },
  {
   "cell_type": "code",
   "execution_count": 22,
   "metadata": {},
   "outputs": [
    {
     "name": "stdout",
     "output_type": "stream",
     "text": [
      "Damn you pre-allocation!\n",
      "(46160672, 46160696)\n",
      "Broke at 257\n"
     ]
    }
   ],
   "source": [
    "## Python pre-allocated ids upto some extent\n",
    "## Let's see\n",
    "x, y = 0, 0\n",
    "while True:\n",
    "    if id(x) != id(y):\n",
    "        print(\"Damn you pre-allocation!\")\n",
    "        print(id(x), id(y))\n",
    "        print(\"Broke at %d\" % x)\n",
    "        break\n",
    "    x, y = x + 1, y + 1\n",
    "\n",
    "# So you'll see by default, integers 0-256 are provided pre-allocated IDs"
   ]
  },
  {
   "cell_type": "code",
   "execution_count": 23,
   "metadata": {},
   "outputs": [
    {
     "name": "stdout",
     "output_type": "stream",
     "text": [
      "37249304\n",
      "37249280\n"
     ]
    }
   ],
   "source": [
    "# But werem't we studying mutable / immutable? :D\n",
    "\n",
    "# Immutable objects, after operation, change id, creating a new object while mutables don't !\n",
    "\n",
    "x = 5  # immutable\n",
    "print(id(x))\n",
    "x += 1  # immutable doesn't allow modification after creation, so new object\n",
    "print(id(x))"
   ]
  },
  {
   "cell_type": "code",
   "execution_count": 24,
   "metadata": {},
   "outputs": [
    {
     "name": "stdout",
     "output_type": "stream",
     "text": [
      "140148477354208\n",
      "140148477354208\n"
     ]
    }
   ],
   "source": [
    "l = [1, 2, 3, 4]  # mutable\n",
    "z = l  # same id\n",
    "print(id(z))\n",
    "print(id(l))"
   ]
  },
  {
   "cell_type": "code",
   "execution_count": 25,
   "metadata": {},
   "outputs": [
    {
     "name": "stdout",
     "output_type": "stream",
     "text": [
      "[0, 2, 3, 4]\n"
     ]
    }
   ],
   "source": [
    "# This may cause sometimes error in your code\n",
    "z[0] = 0  # z => [0, 2, 3, 4]\n",
    "# But l get's changed as well because they refer to same memory location\n",
    "print(l)"
   ]
  },
  {
   "cell_type": "code",
   "execution_count": 26,
   "metadata": {},
   "outputs": [
    {
     "name": "stdout",
     "output_type": "stream",
     "text": [
      "(140148477354208, 140148477355216)\n",
      "[0, 2, 3, 4]\n",
      "[2, 2, 3, 4]\n"
     ]
    }
   ],
   "source": [
    "# To stop above, make a deepcopy using copy module\n",
    "import copy\n",
    "\n",
    "z = copy.deepcopy(l)\n",
    "\n",
    "print(id(l), id(z))\n",
    "z[0] = 2\n",
    "\n",
    "print(l)\n",
    "print(z)"
   ]
  },
  {
   "cell_type": "code",
   "execution_count": 27,
   "metadata": {},
   "outputs": [
    {
     "name": "stdout",
     "output_type": "stream",
     "text": [
      "'str' object does not support item assignment\n",
      "heelo world\n",
      "'tuple' object does not support item assignment\n",
      "Chill\n"
     ]
    }
   ],
   "source": [
    "x = \"hello world\"  # immutable\n",
    "try:\n",
    "    x[2] = \"e\"\n",
    "except Exception as e:\n",
    "    print(e)\n",
    "\n",
    "# workaround\n",
    "x = list(x)  # cast string to list of characters, now it's mutable\n",
    "x[2] = \"e\"\n",
    "x = \"\".join(x)  # convert list to string again\n",
    "print(x)\n",
    "\n",
    "x = (1, 2, 3, 4)  # immutable\n",
    "try:\n",
    "    x[2] = 0\n",
    "except Exception as e:\n",
    "    print(e)\n",
    "\n",
    "x = [1, 2, 3, 4]  # mutable\n",
    "x[2] = 9\n",
    "print(\"Chill\")"
   ]
  },
  {
   "cell_type": "markdown",
   "metadata": {},
   "source": [
    "## Classes"
   ]
  },
  {
   "cell_type": "code",
   "execution_count": 28,
   "metadata": {},
   "outputs": [
    {
     "name": "stdout",
     "output_type": "stream",
     "text": [
      "<__main__.User instance at 0x7f76dc356a70>\n"
     ]
    }
   ],
   "source": [
    "class User:\n",
    "    pass  # do nothing\n",
    "u = User()  # create object of class\n",
    "print(u)"
   ]
  },
  {
   "cell_type": "code",
   "execution_count": 29,
   "metadata": {},
   "outputs": [
    {
     "name": "stdout",
     "output_type": "stream",
     "text": [
      "<__main__.User instance at 0x7f76dc3561b8>\n",
      "Name: Mayank\n",
      "Age: 21\n",
      "Happy birthday Mayank\n",
      "You're now 22 years old\n",
      "Age: 22\n"
     ]
    }
   ],
   "source": [
    "class User:\n",
    "    # __init__ is somewhat like constructor (emphasis on \"somewhat like\"), not exactly a constructor\n",
    "    # constructor creates new instance of class, ie, object\n",
    "    # While, by the time __init__ is called, object is already created\n",
    "    # self is reference to the object\n",
    "    # remaining are parameters\n",
    "    def __init__(self, name, age):\n",
    "        self.name = name\n",
    "        self.age = age\n",
    "\n",
    "    def wish_birthday(self):\n",
    "        print(\"Happy birthday %s\" % self.name)\n",
    "        self.age += 1\n",
    "        print(\"You're now %d years old\" % self.age)\n",
    "\n",
    "u = User(\"Mayank\", 21)\n",
    "print(u)\n",
    "print(\"Name: %s\" % u.name)\n",
    "print(\"Age: %d\" % u.age)\n",
    "u.wish_birthday()\n",
    "print(\"Age: %d\" % u.age)"
   ]
  },
  {
   "cell_type": "code",
   "execution_count": 30,
   "metadata": {},
   "outputs": [
    {
     "name": "stdout",
     "output_type": "stream",
     "text": [
      "<__main__.Complex instance at 0x7f76dc2e9d40>\n",
      "unsupported operand type(s) for +: 'instance' and 'instance'\n"
     ]
    }
   ],
   "source": [
    "# overriding some methods\n",
    "class Complex:\n",
    "    def __init__(self, real, img):\n",
    "        self.real = real\n",
    "        self.img = img\n",
    "z1 = Complex(2, 4)  # 2 + 4i\n",
    "z2 = Complex(-1, 1)  # -1 + 1i\n",
    "\n",
    "print(z1)  # we'll override this to show actual value of z1 or we can override it to do anything\n",
    "\n",
    "try:\n",
    "    z2 = z2 + z1\n",
    "except Exception as e:\n",
    "    print(e)"
   ]
  },
  {
   "cell_type": "code",
   "execution_count": 31,
   "metadata": {},
   "outputs": [
    {
     "name": "stdout",
     "output_type": "stream",
     "text": [
      "('z1', 2 + 4i)\n",
      "('z2', 1 - 5i)\n",
      "('z2', 3 - 1i)\n"
     ]
    }
   ],
   "source": [
    "# So we also need to override + operator for our class\n",
    "class Complex:\n",
    "    def __init__(self, real, img):\n",
    "        self.real = real\n",
    "        self.img = img\n",
    "    \n",
    "    def __add__(self, another_complex):\n",
    "        return Complex(self.real + another_complex.real, self.img + another_complex.img)\n",
    "    \n",
    "    def __repr__(self):\n",
    "        return \"%d %s %di\" % (self.real, \"+\" if self.img >= 0 else \"-\", abs(self.img))\n",
    "\n",
    "z1 = Complex(2, 4)  # 2 + 4i\n",
    "z2 = Complex(1, -5)  # -1 + 1i\n",
    "print(\"z1\", z1)\n",
    "print(\"z2\", z2)\n",
    "z2 = z2 + z1\n",
    "print(\"z2\", z2)"
   ]
  },
  {
   "cell_type": "code",
   "execution_count": null,
   "metadata": {
    "collapsed": true
   },
   "outputs": [],
   "source": []
  }
 ],
 "metadata": {
  "kernelspec": {
   "display_name": "Python 2",
   "language": "python",
   "name": "python2"
  },
  "language_info": {
   "codemirror_mode": {
    "name": "ipython",
    "version": 2
   },
   "file_extension": ".py",
   "mimetype": "text/x-python",
   "name": "python",
   "nbconvert_exporter": "python",
   "pygments_lexer": "ipython2",
   "version": "2.7.12"
  }
 },
 "nbformat": 4,
 "nbformat_minor": 2
}
